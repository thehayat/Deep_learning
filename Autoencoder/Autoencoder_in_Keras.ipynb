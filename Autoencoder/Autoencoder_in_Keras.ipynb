{
  "nbformat": 4,
  "nbformat_minor": 0,
  "metadata": {
    "kernelspec": {
      "name": "python3",
      "display_name": "Python 3"
    },
    "language_info": {
      "codemirror_mode": {
        "name": "ipython",
        "version": 3
      },
      "file_extension": ".py",
      "mimetype": "text/x-python",
      "name": "python",
      "nbconvert_exporter": "python",
      "pygments_lexer": "ipython3",
      "version": "3.7.4"
    },
    "colab": {
      "name": "Autoencoder in Keras.ipynb",
      "provenance": [],
      "collapsed_sections": []
    },
    "accelerator": "GPU"
  },
  "cells": [
    {
      "cell_type": "markdown",
      "metadata": {
        "id": "ZrqtAQC6nmBB",
        "colab_type": "text"
      },
      "source": [
        "## Autoencoder for Noise Reduction\n",
        "The idea of encoding is to reduce the dimensions of input data so that the information is compressed. The idea of decoding is to restore the original information from the compressed data.\n",
        "\n",
        "The autoencoder learns to encode and decode automatically (hence, the name). As such, it is data specific and will not work on completely unseen data structure. For example, an autoencoder trained on numbers does not work on alphabets. Another limitation is that the compression is lossy. It does not perfectly restore the original information. It is, however, quite useful for noise reduction which we will see later in this notebook.\n",
        "\n",
        "The code in this notebook is based on Building Autoencoders in Keras by Francois Chollet [1] and Autoencoder Examples by Udacity [2].\n",
        "\n",
        "### MNIST\n",
        "MNIST is a well known database of handwritten digits"
      ]
    },
    {
      "cell_type": "code",
      "metadata": {
        "id": "OcIFcZsDnmBF",
        "colab_type": "code",
        "colab": {
          "base_uri": "https://localhost:8080/",
          "height": 80
        },
        "outputId": "97b17d26-e8cf-47bb-c70a-a02142e8ac1c"
      },
      "source": [
        "import numpy as np\n",
        "import keras\n",
        "from keras.layers import Input, Dense, Conv2D, MaxPooling2D, UpSampling2D\n",
        "from keras.models import Model\n",
        "from sklearn.model_selection import train_test_split\n",
        "import matplotlib.pyplot as plt\n",
        "%matplotlib inline"
      ],
      "execution_count": 1,
      "outputs": [
        {
          "output_type": "stream",
          "text": [
            "Using TensorFlow backend.\n"
          ],
          "name": "stderr"
        },
        {
          "output_type": "display_data",
          "data": {
            "text/html": [
              "<p style=\"color: red;\">\n",
              "The default version of TensorFlow in Colab will soon switch to TensorFlow 2.x.<br>\n",
              "We recommend you <a href=\"https://www.tensorflow.org/guide/migrate\" target=\"_blank\">upgrade</a> now \n",
              "or ensure your notebook will continue to use TensorFlow 1.x via the <code>%tensorflow_version 1.x</code> magic:\n",
              "<a href=\"https://colab.research.google.com/notebooks/tensorflow_version.ipynb\" target=\"_blank\">more info</a>.</p>\n"
            ],
            "text/plain": [
              "<IPython.core.display.HTML object>"
            ]
          },
          "metadata": {
            "tags": []
          }
        }
      ]
    },
    {
      "cell_type": "markdown",
      "metadata": {
        "id": "DOsWrMATnmBR",
        "colab_type": "text"
      },
      "source": [
        "The below will download MNIST dataset (if not already). We ignore the labels since they are not important."
      ]
    },
    {
      "cell_type": "code",
      "metadata": {
        "id": "SpXF88BwnmBU",
        "colab_type": "code",
        "colab": {
          "base_uri": "https://localhost:8080/",
          "height": 51
        },
        "outputId": "d7990ad6-e2ca-488b-e92f-f95896a0d0fb"
      },
      "source": [
        "(X_train, _), (X_test, _) = keras.datasets.mnist.load_data()"
      ],
      "execution_count": 2,
      "outputs": [
        {
          "output_type": "stream",
          "text": [
            "Downloading data from https://s3.amazonaws.com/img-datasets/mnist.npz\n",
            "11493376/11490434 [==============================] - 1s 0us/step\n"
          ],
          "name": "stdout"
        }
      ]
    },
    {
      "cell_type": "markdown",
      "metadata": {
        "id": "kvhY4abJnmBZ",
        "colab_type": "text"
      },
      "source": [
        "The images in MNIST all have the same shape. It has no color information."
      ]
    },
    {
      "cell_type": "code",
      "metadata": {
        "id": "-3M3g0YpnmBa",
        "colab_type": "code",
        "colab": {
          "base_uri": "https://localhost:8080/",
          "height": 34
        },
        "outputId": "ca86592e-22e2-4e3c-e1f3-2abd35cc690f"
      },
      "source": [
        "X_train[0].shape"
      ],
      "execution_count": 3,
      "outputs": [
        {
          "output_type": "execute_result",
          "data": {
            "text/plain": [
              "(28, 28)"
            ]
          },
          "metadata": {
            "tags": []
          },
          "execution_count": 3
        }
      ]
    },
    {
      "cell_type": "markdown",
      "metadata": {
        "id": "3ieb3jP4nmBf",
        "colab_type": "text"
      },
      "source": [
        "Let's examine sample images. We use 'gray' color map since it has no color information."
      ]
    },
    {
      "cell_type": "code",
      "metadata": {
        "id": "IOLgw4YAnmBh",
        "colab_type": "code",
        "colab": {
          "base_uri": "https://localhost:8080/",
          "height": 82
        },
        "outputId": "70fc03e9-0adc-40c7-aa6f-7f3c4ffee6a6"
      },
      "source": [
        "plt.figure(figsize=(10, 5))\n",
        "for i in range(10):\n",
        "    plt.subplot(1, 10, i+1)\n",
        "    plt.imshow(X_train[i], cmap='gray')\n",
        "    plt.xticks([])\n",
        "    plt.yticks([])\n",
        "plt.show()"
      ],
      "execution_count": 4,
      "outputs": [
        {
          "output_type": "display_data",
          "data": {
            "image/png": "[encoded data removed]",
            "text/plain": [
              "<Figure size 720x360 with 10 Axes>"
            ]
          },
          "metadata": {
            "tags": []
          }
        }
      ]
    },
    {
      "cell_type": "markdown",
      "metadata": {
        "id": "a4CG0K1MnmBm",
        "colab_type": "text"
      },
      "source": [
        "## Simple Autoencoder\n",
        "To introduce the idea of autoencoders, we start with a simple implementation based on a fully connected layers. One hidden layer handles the encoding, and the output layer handles the decoding.\n",
        "\n",
        "Each of the input images is flatten to an array of 784 ($=28 \\times 28$) data points. This is then compressed into 32 data points by the fully connected layer."
      ]
    },
    {
      "cell_type": "code",
      "metadata": {
        "id": "ixdb5DWmnmBo",
        "colab_type": "code",
        "colab": {
          "base_uri": "https://localhost:8080/",
          "height": 139
        },
        "outputId": "b1d1d27d-b910-489a-8755-d4143707aa23"
      },
      "source": [
        "inputs  = Input(shape=(784,))              # 28*28 flatten\n",
        "enc_fc  = Dense( 32, activation='relu')    # compress using 32 neurons\n",
        "encoded = enc_fc(inputs)"
      ],
      "execution_count": 5,
      "outputs": [
        {
          "output_type": "stream",
          "text": [
            "WARNING:tensorflow:From /usr/local/lib/python3.6/dist-packages/keras/backend/tensorflow_backend.py:66: The name tf.get_default_graph is deprecated. Please use tf.compat.v1.get_default_graph instead.\n",
            "\n",
            "WARNING:tensorflow:From /usr/local/lib/python3.6/dist-packages/keras/backend/tensorflow_backend.py:541: The name tf.placeholder is deprecated. Please use tf.compat.v1.placeholder instead.\n",
            "\n",
            "WARNING:tensorflow:From /usr/local/lib/python3.6/dist-packages/keras/backend/tensorflow_backend.py:4432: The name tf.random_uniform is deprecated. Please use tf.random.uniform instead.\n",
            "\n"
          ],
          "name": "stdout"
        }
      ]
    },
    {
      "cell_type": "markdown",
      "metadata": {
        "id": "amStN4FAnmBt",
        "colab_type": "text"
      },
      "source": [
        "Then, we decode the encoded data to the original 784 data points. The sigmoid will return values between 0 and 1."
      ]
    },
    {
      "cell_type": "code",
      "metadata": {
        "id": "owY0DFeSnmBu",
        "colab_type": "code",
        "colab": {}
      },
      "source": [
        "dec_fc  = Dense(784, activation='sigmoid') # decompress to 784 pixels\n",
        "decoded = dec_fc(encoded)"
      ],
      "execution_count": 0,
      "outputs": []
    },
    {
      "cell_type": "markdown",
      "metadata": {
        "id": "p01bHz_XnmBz",
        "colab_type": "text"
      },
      "source": [
        "This whole processing becomes the trainable autoencoder model. It is compressing and decompressing. So, what's the point? We talk about that later on."
      ]
    },
    {
      "cell_type": "code",
      "metadata": {
        "id": "sP6r9uuJnmB0",
        "colab_type": "code",
        "colab": {
          "base_uri": "https://localhost:8080/",
          "height": 156
        },
        "outputId": "35ca2a15-6856-467e-8de5-2920e186eb29"
      },
      "source": [
        "# build the model to train\n",
        "autoencoder = Model(inputs, decoded)\n",
        "autoencoder.compile(optimizer='adam', loss='binary_crossentropy')"
      ],
      "execution_count": 7,
      "outputs": [
        {
          "output_type": "stream",
          "text": [
            "WARNING:tensorflow:From /usr/local/lib/python3.6/dist-packages/keras/optimizers.py:793: The name tf.train.Optimizer is deprecated. Please use tf.compat.v1.train.Optimizer instead.\n",
            "\n",
            "WARNING:tensorflow:From /usr/local/lib/python3.6/dist-packages/keras/backend/tensorflow_backend.py:3657: The name tf.log is deprecated. Please use tf.math.log instead.\n",
            "\n",
            "WARNING:tensorflow:From /usr/local/lib/python3.6/dist-packages/tensorflow_core/python/ops/nn_impl.py:183: where (from tensorflow.python.ops.array_ops) is deprecated and will be removed in a future version.\n",
            "Instructions for updating:\n",
            "Use tf.where in 2.0, which has the same broadcast rule as np.where\n"
          ],
          "name": "stdout"
        }
      ]
    },
    {
      "cell_type": "markdown",
      "metadata": {
        "id": "O2bY3_U4nmB5",
        "colab_type": "text"
      },
      "source": [
        "Let's preprocess the MNIST image data so that image data are normalized between 0 and 1."
      ]
    },
    {
      "cell_type": "code",
      "metadata": {
        "id": "ScoAiLBSnmB6",
        "colab_type": "code",
        "colab": {}
      },
      "source": [
        "def preprocess(x):\n",
        "    x = x.astype('float32') / 255.\n",
        "    return x.reshape(-1, np.prod(x.shape[1:])) # flatten\n",
        "    \n",
        "X_train = preprocess(X_train)\n",
        "X_test  = preprocess(X_test)\n",
        "\n",
        "# also create a validation set for training\n",
        "X_train, X_valid = train_test_split(X_train, test_size=500)"
      ],
      "execution_count": 0,
      "outputs": []
    },
    {
      "cell_type": "markdown",
      "metadata": {
        "id": "Hy_K4FiJnmCB",
        "colab_type": "text"
      },
      "source": [
        "Now, we train the autoencoder which compress the input image and then restore to the original size. As such, our training data and label data are both the same image data."
      ]
    },
    {
      "cell_type": "code",
      "metadata": {
        "id": "xY6vz9lFnmCD",
        "colab_type": "code",
        "colab": {
          "base_uri": "https://localhost:8080/",
          "height": 1000
        },
        "outputId": "cd743f2a-355e-4674-f4e3-8c8438e7a1d6"
      },
      "source": [
        "\n",
        "autoencoder.fit(X_train, X_train, epochs=50, batch_size=128, validation_data=(X_valid, X_valid))"
      ],
      "execution_count": 9,
      "outputs": [
        {
          "output_type": "stream",
          "text": [
            "WARNING:tensorflow:From /usr/local/lib/python3.6/dist-packages/keras/backend/tensorflow_backend.py:1033: The name tf.assign_add is deprecated. Please use tf.compat.v1.assign_add instead.\n",
            "\n",
            "WARNING:tensorflow:From /usr/local/lib/python3.6/dist-packages/keras/backend/tensorflow_backend.py:1020: The name tf.assign is deprecated. Please use tf.compat.v1.assign instead.\n",
            "\n",
            "WARNING:tensorflow:From /usr/local/lib/python3.6/dist-packages/keras/backend/tensorflow_backend.py:3005: The name tf.Session is deprecated. Please use tf.compat.v1.Session instead.\n",
            "\n",
            "Train on 59500 samples, validate on 500 samples\n",
            "Epoch 1/50\n",
            "WARNING:tensorflow:From /usr/local/lib/python3.6/dist-packages/keras/backend/tensorflow_backend.py:190: The name tf.get_default_session is deprecated. Please use tf.compat.v1.get_default_session instead.\n",
            "\n",
            "WARNING:tensorflow:From /usr/local/lib/python3.6/dist-packages/keras/backend/tensorflow_backend.py:197: The name tf.ConfigProto is deprecated. Please use tf.compat.v1.ConfigProto instead.\n",
            "\n",
            "WARNING:tensorflow:From /usr/local/lib/python3.6/dist-packages/keras/backend/tensorflow_backend.py:207: The name tf.global_variables is deprecated. Please use tf.compat.v1.global_variables instead.\n",
            "\n",
            "WARNING:tensorflow:From /usr/local/lib/python3.6/dist-packages/keras/backend/tensorflow_backend.py:216: The name tf.is_variable_initialized is deprecated. Please use tf.compat.v1.is_variable_initialized instead.\n",
            "\n",
            "WARNING:tensorflow:From /usr/local/lib/python3.6/dist-packages/keras/backend/tensorflow_backend.py:223: The name tf.variables_initializer is deprecated. Please use tf.compat.v1.variables_initializer instead.\n",
            "\n",
            "59500/59500 [==============================] - 7s 124us/step - loss: 0.2290 - val_loss: 0.1619\n",
            "Epoch 2/50\n",
            "59500/59500 [==============================] - 2s 28us/step - loss: 0.1429 - val_loss: 0.1292\n",
            "Epoch 3/50\n",
            "59500/59500 [==============================] - 2s 26us/step - loss: 0.1210 - val_loss: 0.1141\n",
            "Epoch 4/50\n",
            "59500/59500 [==============================] - 2s 26us/step - loss: 0.1090 - val_loss: 0.1054\n",
            "Epoch 5/50\n",
            "59500/59500 [==============================] - 2s 27us/step - loss: 0.1018 - val_loss: 0.1000\n",
            "Epoch 6/50\n",
            "59500/59500 [==============================] - 2s 26us/step - loss: 0.0979 - val_loss: 0.0971\n",
            "Epoch 7/50\n",
            "59500/59500 [==============================] - 2s 28us/step - loss: 0.0960 - val_loss: 0.0960\n",
            "Epoch 8/50\n",
            "59500/59500 [==============================] - 2s 27us/step - loss: 0.0950 - val_loss: 0.0954\n",
            "Epoch 9/50\n",
            "59500/59500 [==============================] - 2s 28us/step - loss: 0.0945 - val_loss: 0.0950\n",
            "Epoch 10/50\n",
            "59500/59500 [==============================] - 2s 27us/step - loss: 0.0941 - val_loss: 0.0947\n",
            "Epoch 11/50\n",
            "59500/59500 [==============================] - 2s 27us/step - loss: 0.0939 - val_loss: 0.0947\n",
            "Epoch 12/50\n",
            "59500/59500 [==============================] - 2s 28us/step - loss: 0.0937 - val_loss: 0.0946\n",
            "Epoch 13/50\n",
            "59500/59500 [==============================] - 2s 28us/step - loss: 0.0936 - val_loss: 0.0944\n",
            "Epoch 14/50\n",
            "59500/59500 [==============================] - 2s 28us/step - loss: 0.0935 - val_loss: 0.0945\n",
            "Epoch 15/50\n",
            "59500/59500 [==============================] - 2s 27us/step - loss: 0.0934 - val_loss: 0.0943\n",
            "Epoch 16/50\n",
            "59500/59500 [==============================] - 2s 28us/step - loss: 0.0933 - val_loss: 0.0942\n",
            "Epoch 17/50\n",
            "59500/59500 [==============================] - 2s 27us/step - loss: 0.0933 - val_loss: 0.0943\n",
            "Epoch 18/50\n",
            "59500/59500 [==============================] - 2s 26us/step - loss: 0.0932 - val_loss: 0.0941\n",
            "Epoch 19/50\n",
            "59500/59500 [==============================] - 2s 29us/step - loss: 0.0932 - val_loss: 0.0941\n",
            "Epoch 20/50\n",
            "59500/59500 [==============================] - 2s 26us/step - loss: 0.0931 - val_loss: 0.0944\n",
            "Epoch 21/50\n",
            "59500/59500 [==============================] - 2s 26us/step - loss: 0.0931 - val_loss: 0.0942\n",
            "Epoch 22/50\n",
            "59500/59500 [==============================] - 2s 25us/step - loss: 0.0930 - val_loss: 0.0943\n",
            "Epoch 23/50\n",
            "59500/59500 [==============================] - 2s 26us/step - loss: 0.0930 - val_loss: 0.0941\n",
            "Epoch 24/50\n",
            "59500/59500 [==============================] - 2s 27us/step - loss: 0.0930 - val_loss: 0.0942\n",
            "Epoch 25/50\n",
            "59500/59500 [==============================] - 2s 26us/step - loss: 0.0930 - val_loss: 0.0940\n",
            "Epoch 26/50\n",
            "59500/59500 [==============================] - 2s 27us/step - loss: 0.0929 - val_loss: 0.0941\n",
            "Epoch 27/50\n",
            "59500/59500 [==============================] - 2s 25us/step - loss: 0.0929 - val_loss: 0.0940\n",
            "Epoch 28/50\n",
            "59500/59500 [==============================] - 2s 26us/step - loss: 0.0929 - val_loss: 0.0940\n",
            "Epoch 29/50\n",
            "59500/59500 [==============================] - 2s 27us/step - loss: 0.0929 - val_loss: 0.0941\n",
            "Epoch 30/50\n",
            "59500/59500 [==============================] - 2s 27us/step - loss: 0.0929 - val_loss: 0.0940\n",
            "Epoch 31/50\n",
            "59500/59500 [==============================] - 2s 27us/step - loss: 0.0928 - val_loss: 0.0939\n",
            "Epoch 32/50\n",
            "59500/59500 [==============================] - 2s 27us/step - loss: 0.0928 - val_loss: 0.0939\n",
            "Epoch 33/50\n",
            "59500/59500 [==============================] - 2s 26us/step - loss: 0.0928 - val_loss: 0.0940\n",
            "Epoch 34/50\n",
            "59500/59500 [==============================] - 2s 27us/step - loss: 0.0928 - val_loss: 0.0941\n",
            "Epoch 35/50\n",
            "59500/59500 [==============================] - 2s 27us/step - loss: 0.0928 - val_loss: 0.0940\n",
            "Epoch 36/50\n",
            "59500/59500 [==============================] - 2s 27us/step - loss: 0.0928 - val_loss: 0.0939\n",
            "Epoch 37/50\n",
            "59500/59500 [==============================] - 2s 26us/step - loss: 0.0928 - val_loss: 0.0941\n",
            "Epoch 38/50\n",
            "59500/59500 [==============================] - 2s 27us/step - loss: 0.0927 - val_loss: 0.0939\n",
            "Epoch 39/50\n",
            "59500/59500 [==============================] - 2s 26us/step - loss: 0.0927 - val_loss: 0.0941\n",
            "Epoch 40/50\n",
            "59500/59500 [==============================] - 2s 26us/step - loss: 0.0927 - val_loss: 0.0939\n",
            "Epoch 41/50\n",
            "59500/59500 [==============================] - 2s 26us/step - loss: 0.0927 - val_loss: 0.0941\n",
            "Epoch 42/50\n",
            "59500/59500 [==============================] - 2s 27us/step - loss: 0.0927 - val_loss: 0.0941\n",
            "Epoch 43/50\n",
            "59500/59500 [==============================] - 2s 27us/step - loss: 0.0927 - val_loss: 0.0940\n",
            "Epoch 44/50\n",
            "59500/59500 [==============================] - 2s 26us/step - loss: 0.0927 - val_loss: 0.0939\n",
            "Epoch 45/50\n",
            "59500/59500 [==============================] - 2s 27us/step - loss: 0.0927 - val_loss: 0.0940\n",
            "Epoch 46/50\n",
            "59500/59500 [==============================] - 2s 27us/step - loss: 0.0927 - val_loss: 0.0940\n",
            "Epoch 47/50\n",
            "59500/59500 [==============================] - 2s 28us/step - loss: 0.0926 - val_loss: 0.0939\n",
            "Epoch 48/50\n",
            "59500/59500 [==============================] - 2s 27us/step - loss: 0.0926 - val_loss: 0.0939\n",
            "Epoch 49/50\n",
            "59500/59500 [==============================] - 2s 27us/step - loss: 0.0926 - val_loss: 0.0940\n",
            "Epoch 50/50\n",
            "59500/59500 [==============================] - 2s 26us/step - loss: 0.0926 - val_loss: 0.0940\n"
          ],
          "name": "stdout"
        },
        {
          "output_type": "execute_result",
          "data": {
            "text/plain": [
              "<keras.callbacks.History at 0x7f8692c51cf8>"
            ]
          },
          "metadata": {
            "tags": []
          },
          "execution_count": 9
        }
      ]
    },
    {
      "cell_type": "markdown",
      "metadata": {
        "id": "i779NgwwnmCH",
        "colab_type": "text"
      },
      "source": [
        "Once the autoencoder is trained, we can use the encoding part to encode MNIST digit images. By training an autoencoder, we are really training both the encoder and the decoder at the same time which is why the above training is done."
      ]
    },
    {
      "cell_type": "code",
      "metadata": {
        "id": "6WoIFNpOnmCJ",
        "colab_type": "code",
        "colab": {}
      },
      "source": [
        "\n",
        "encoder = Model(inputs, encoded)"
      ],
      "execution_count": 0,
      "outputs": []
    },
    {
      "cell_type": "markdown",
      "metadata": {
        "id": "Ekv_jQXgnmCO",
        "colab_type": "text"
      },
      "source": [
        "Now, we can compress MNIST images."
      ]
    },
    {
      "cell_type": "code",
      "metadata": {
        "id": "dCjlUwL0nmCP",
        "colab_type": "code",
        "colab": {}
      },
      "source": [
        "X_test_encoded = encoder.predict(X_test)"
      ],
      "execution_count": 0,
      "outputs": []
    },
    {
      "cell_type": "markdown",
      "metadata": {
        "id": "XYRfcKeHnmCU",
        "colab_type": "text"
      },
      "source": [
        "We can confirm the 784 pixels are now compressed into 32 data points."
      ]
    },
    {
      "cell_type": "code",
      "metadata": {
        "id": "A7JxEGbenmCV",
        "colab_type": "code",
        "colab": {
          "base_uri": "https://localhost:8080/",
          "height": 34
        },
        "outputId": "aa1cbc5b-503e-456f-b5d9-d05942396046"
      },
      "source": [
        "X_test_encoded[0].shape"
      ],
      "execution_count": 12,
      "outputs": [
        {
          "output_type": "execute_result",
          "data": {
            "text/plain": [
              "(32,)"
            ]
          },
          "metadata": {
            "tags": []
          },
          "execution_count": 12
        }
      ]
    },
    {
      "cell_type": "markdown",
      "metadata": {
        "id": "IyIj98QynmCZ",
        "colab_type": "text"
      },
      "source": [
        "Let's also build the decoder so that we can decode the encoded information into the original image size. For the decoder, the input shape takes 32 data points as that is the size of encoded data."
      ]
    },
    {
      "cell_type": "code",
      "metadata": {
        "id": "Z46kHY-HnmCa",
        "colab_type": "code",
        "colab": {}
      },
      "source": [
        "decoder_inputs = Input(shape=(32,))\n",
        "decoder = Model(decoder_inputs, dec_fc(decoder_inputs))"
      ],
      "execution_count": 0,
      "outputs": []
    },
    {
      "cell_type": "markdown",
      "metadata": {
        "id": "GShgk5JTnmCf",
        "colab_type": "text"
      },
      "source": [
        "Let's decompress the compressed MNIST images."
      ]
    },
    {
      "cell_type": "code",
      "metadata": {
        "id": "xms604z8nmCg",
        "colab_type": "code",
        "colab": {}
      },
      "source": [
        "X_test_decoded = decoder.predict(X_test_encoded)"
      ],
      "execution_count": 0,
      "outputs": []
    },
    {
      "cell_type": "markdown",
      "metadata": {
        "id": "FrQKq1nlnmCk",
        "colab_type": "text"
      },
      "source": [
        "The first row is the original image and the second row is the restored image."
      ]
    },
    {
      "cell_type": "code",
      "metadata": {
        "id": "S2XDUYa2nmCm",
        "colab_type": "code",
        "colab": {
          "base_uri": "https://localhost:8080/",
          "height": 141
        },
        "outputId": "543301c9-d8dc-4b45-816e-18abff9669ba"
      },
      "source": [
        "def show_images(before_images, after_images):\n",
        "    plt.figure(figsize=(10, 2))\n",
        "    for i in range(10):\n",
        "        # before\n",
        "        plt.subplot(2, 10, i+1)\n",
        "        plt.imshow(before_images[i].reshape(28, 28), cmap='gray')\n",
        "        plt.xticks([])\n",
        "        plt.yticks([])\n",
        "        # after\n",
        "        plt.subplot(2, 10, 10+i+1)\n",
        "        plt.imshow(after_images[i].reshape(28, 28), cmap='gray')\n",
        "        plt.xticks([])\n",
        "        plt.yticks([])\n",
        "    plt.show()\n",
        "    \n",
        "show_images(X_test, X_test_decoded)"
      ],
      "execution_count": 16,
      "outputs": [
        {
          "output_type": "display_data",
          "data": {
            "image/png": "[encoded data removed]",
            "text/plain": [
              "<Figure size 720x144 with 20 Axes>"
            ]
          },
          "metadata": {
            "tags": []
          }
        }
      ]
    },
    {
      "cell_type": "markdown",
      "metadata": {
        "id": "WT9zGYO1nmCs",
        "colab_type": "text"
      },
      "source": [
        "As can be seen, the decoded images do not completely restore the original image."
      ]
    },
    {
      "cell_type": "markdown",
      "metadata": {
        "id": "3I-tLxt6nmCt",
        "colab_type": "text"
      },
      "source": [
        "## Convolutional Autoencoder\n",
        "We could add more layers to make the network deeper to improve the performance. But since we are working on images, we could make use of convolutional neural network to improve the quality of compression and decompression."
      ]
    },
    {
      "cell_type": "code",
      "metadata": {
        "id": "y5JOO-NxnmCw",
        "colab_type": "code",
        "colab": {}
      },
      "source": [
        "def make_convolutional_autoencoder():\n",
        "    # encoding\n",
        "    inputs = Input(shape=(28, 28, 1))\n",
        "    x = Conv2D(16, 3, activation='relu', padding='same')(inputs)\n",
        "    x = MaxPooling2D(padding='same')(x)\n",
        "    x = Conv2D( 8, 3, activation='relu', padding='same')(x)\n",
        "    x = MaxPooling2D(padding='same')(x)\n",
        "    x = Conv2D( 8, 3, activation='relu', padding='same')(x)\n",
        "    encoded = MaxPooling2D(padding='same')(x)    \n",
        "    \n",
        "    # decoding\n",
        "    x = Conv2D( 8, 3, activation='relu', padding='same')(encoded)\n",
        "    x = UpSampling2D()(x)\n",
        "    x = Conv2D( 8, 3, activation='relu', padding='same')(x)\n",
        "    x = UpSampling2D()(x)\n",
        "    x = Conv2D(16, 3, activation='relu')(x) # <= padding='valid'!\n",
        "    x = UpSampling2D()(x)\n",
        "    decoded = Conv2D(1, 3, activation='sigmoid', padding='same')(x)    \n",
        "    \n",
        "    # autoencoder\n",
        "    autoencoder = Model(inputs, decoded)\n",
        "    autoencoder.compile(optimizer='adam', loss='binary_crossentropy')\n",
        "    return autoencoder"
      ],
      "execution_count": 0,
      "outputs": []
    },
    {
      "cell_type": "markdown",
      "metadata": {
        "id": "7xi84333nmC7",
        "colab_type": "text"
      },
      "source": [
        "Let's make a convolutional autoencoder and examine the layers."
      ]
    },
    {
      "cell_type": "code",
      "metadata": {
        "id": "4XE8FftfnmC-",
        "colab_type": "code",
        "colab": {
          "base_uri": "https://localhost:8080/",
          "height": 717
        },
        "outputId": "f8fbbf39-8570-472f-fc3c-0ee0ac06204a"
      },
      "source": [
        "autoencoder = make_convolutional_autoencoder()\n",
        "\n",
        "autoencoder.summary()"
      ],
      "execution_count": 18,
      "outputs": [
        {
          "output_type": "stream",
          "text": [
            "WARNING:tensorflow:From /usr/local/lib/python3.6/dist-packages/keras/backend/tensorflow_backend.py:4267: The name tf.nn.max_pool is deprecated. Please use tf.nn.max_pool2d instead.\n",
            "\n",
            "WARNING:tensorflow:From /usr/local/lib/python3.6/dist-packages/keras/backend/tensorflow_backend.py:2239: The name tf.image.resize_nearest_neighbor is deprecated. Please use tf.compat.v1.image.resize_nearest_neighbor instead.\n",
            "\n",
            "Model: \"model_4\"\n",
            "_________________________________________________________________\n",
            "Layer (type)                 Output Shape              Param #   \n",
            "=================================================================\n",
            "input_3 (InputLayer)         (None, 28, 28, 1)         0         \n",
            "_________________________________________________________________\n",
            "conv2d_1 (Conv2D)            (None, 28, 28, 16)        160       \n",
            "_________________________________________________________________\n",
            "max_pooling2d_1 (MaxPooling2 (None, 14, 14, 16)        0         \n",
            "_________________________________________________________________\n",
            "conv2d_2 (Conv2D)            (None, 14, 14, 8)         1160      \n",
            "_________________________________________________________________\n",
            "max_pooling2d_2 (MaxPooling2 (None, 7, 7, 8)           0         \n",
            "_________________________________________________________________\n",
            "conv2d_3 (Conv2D)            (None, 7, 7, 8)           584       \n",
            "_________________________________________________________________\n",
            "max_pooling2d_3 (MaxPooling2 (None, 4, 4, 8)           0         \n",
            "_________________________________________________________________\n",
            "conv2d_4 (Conv2D)            (None, 4, 4, 8)           584       \n",
            "_________________________________________________________________\n",
            "up_sampling2d_1 (UpSampling2 (None, 8, 8, 8)           0         \n",
            "_________________________________________________________________\n",
            "conv2d_5 (Conv2D)            (None, 8, 8, 8)           584       \n",
            "_________________________________________________________________\n",
            "up_sampling2d_2 (UpSampling2 (None, 16, 16, 8)         0         \n",
            "_________________________________________________________________\n",
            "conv2d_6 (Conv2D)            (None, 14, 14, 16)        1168      \n",
            "_________________________________________________________________\n",
            "up_sampling2d_3 (UpSampling2 (None, 28, 28, 16)        0         \n",
            "_________________________________________________________________\n",
            "conv2d_7 (Conv2D)            (None, 28, 28, 1)         145       \n",
            "=================================================================\n",
            "Total params: 4,385\n",
            "Trainable params: 4,385\n",
            "Non-trainable params: 0\n",
            "_________________________________________________________________\n"
          ],
          "name": "stdout"
        }
      ]
    },
    {
      "cell_type": "markdown",
      "metadata": {
        "id": "MT47mSXmnmDC",
        "colab_type": "text"
      },
      "source": [
        "The UpSampling2D will repeats the rows and columns twice. Effectively reversing the effect of the MaxPooling2D.\n",
        "\n",
        "If you look closely, the UpSampling2D is doubling the height and width: (4,4) => (8,8) => (16,16). But the conv2d_13 (Conv2D) uses the padding='valid' which is the default and reduces the height and width = (14,14) so that we can up sample again to (28,28). This is a minor details but important in practice.\n",
        "\n",
        "Let's reshape the image data to the format the convolutional autoencoder expects for training."
      ]
    },
    {
      "cell_type": "code",
      "metadata": {
        "id": "kp4TyGy0nmDD",
        "colab_type": "code",
        "colab": {
          "base_uri": "https://localhost:8080/",
          "height": 1000
        },
        "outputId": "2c9054d0-cd64-4612-9b6a-6023723aedf4"
      },
      "source": [
        "X_train = X_train.reshape(-1, 28, 28, 1)\n",
        "X_valid = X_valid.reshape(-1, 28, 28, 1)\n",
        "X_test  = X_test.reshape(-1, 28, 28, 1)\n",
        "\n",
        "autoencoder.fit(X_train, X_train, epochs=50, batch_size=128, validation_data=(X_valid, X_valid))"
      ],
      "execution_count": 19,
      "outputs": [
        {
          "output_type": "stream",
          "text": [
            "Train on 59500 samples, validate on 500 samples\n",
            "Epoch 1/50\n",
            "59500/59500 [==============================] - 8s 141us/step - loss: 0.2056 - val_loss: 0.1457\n",
            "Epoch 2/50\n",
            "59500/59500 [==============================] - 3s 50us/step - loss: 0.1316 - val_loss: 0.1259\n",
            "Epoch 3/50\n",
            "59500/59500 [==============================] - 3s 50us/step - loss: 0.1193 - val_loss: 0.1173\n",
            "Epoch 4/50\n",
            "59500/59500 [==============================] - 3s 50us/step - loss: 0.1136 - val_loss: 0.1132\n",
            "Epoch 5/50\n",
            "59500/59500 [==============================] - 3s 50us/step - loss: 0.1103 - val_loss: 0.1105\n",
            "Epoch 6/50\n",
            "59500/59500 [==============================] - 3s 50us/step - loss: 0.1079 - val_loss: 0.1084\n",
            "Epoch 7/50\n",
            "59500/59500 [==============================] - 3s 50us/step - loss: 0.1060 - val_loss: 0.1069\n",
            "Epoch 8/50\n",
            "59500/59500 [==============================] - 3s 49us/step - loss: 0.1045 - val_loss: 0.1051\n",
            "Epoch 9/50\n",
            "59500/59500 [==============================] - 3s 50us/step - loss: 0.1032 - val_loss: 0.1045\n",
            "Epoch 10/50\n",
            "59500/59500 [==============================] - 3s 49us/step - loss: 0.1021 - val_loss: 0.1030\n",
            "Epoch 11/50\n",
            "59500/59500 [==============================] - 3s 48us/step - loss: 0.1012 - val_loss: 0.1021\n",
            "Epoch 12/50\n",
            "59500/59500 [==============================] - 3s 49us/step - loss: 0.1004 - val_loss: 0.1015\n",
            "Epoch 13/50\n",
            "59500/59500 [==============================] - 3s 50us/step - loss: 0.0997 - val_loss: 0.1009\n",
            "Epoch 14/50\n",
            "59500/59500 [==============================] - 3s 50us/step - loss: 0.0990 - val_loss: 0.1000\n",
            "Epoch 15/50\n",
            "59500/59500 [==============================] - 3s 51us/step - loss: 0.0984 - val_loss: 0.0998\n",
            "Epoch 16/50\n",
            "59500/59500 [==============================] - 3s 51us/step - loss: 0.0978 - val_loss: 0.0988\n",
            "Epoch 17/50\n",
            "59500/59500 [==============================] - 3s 51us/step - loss: 0.0973 - val_loss: 0.0983\n",
            "Epoch 18/50\n",
            "59500/59500 [==============================] - 3s 50us/step - loss: 0.0968 - val_loss: 0.0980\n",
            "Epoch 19/50\n",
            "59500/59500 [==============================] - 3s 50us/step - loss: 0.0964 - val_loss: 0.0976\n",
            "Epoch 20/50\n",
            "59500/59500 [==============================] - 3s 49us/step - loss: 0.0959 - val_loss: 0.0971\n",
            "Epoch 21/50\n",
            "59500/59500 [==============================] - 3s 50us/step - loss: 0.0955 - val_loss: 0.0965\n",
            "Epoch 22/50\n",
            "59500/59500 [==============================] - 3s 48us/step - loss: 0.0951 - val_loss: 0.0961\n",
            "Epoch 23/50\n",
            "59500/59500 [==============================] - 3s 50us/step - loss: 0.0949 - val_loss: 0.0963\n",
            "Epoch 24/50\n",
            "59500/59500 [==============================] - 3s 52us/step - loss: 0.0946 - val_loss: 0.0959\n",
            "Epoch 25/50\n",
            "59500/59500 [==============================] - 3s 50us/step - loss: 0.0943 - val_loss: 0.0954\n",
            "Epoch 26/50\n",
            "59500/59500 [==============================] - 3s 50us/step - loss: 0.0940 - val_loss: 0.0952\n",
            "Epoch 27/50\n",
            "59500/59500 [==============================] - 3s 50us/step - loss: 0.0937 - val_loss: 0.0948\n",
            "Epoch 28/50\n",
            "59500/59500 [==============================] - 3s 49us/step - loss: 0.0935 - val_loss: 0.0949\n",
            "Epoch 29/50\n",
            "59500/59500 [==============================] - 3s 49us/step - loss: 0.0932 - val_loss: 0.0945\n",
            "Epoch 30/50\n",
            "59500/59500 [==============================] - 3s 48us/step - loss: 0.0930 - val_loss: 0.0939\n",
            "Epoch 31/50\n",
            "59500/59500 [==============================] - 3s 49us/step - loss: 0.0928 - val_loss: 0.0939\n",
            "Epoch 32/50\n",
            "59500/59500 [==============================] - 3s 47us/step - loss: 0.0926 - val_loss: 0.0937\n",
            "Epoch 33/50\n",
            "59500/59500 [==============================] - 3s 49us/step - loss: 0.0925 - val_loss: 0.0936\n",
            "Epoch 34/50\n",
            "59500/59500 [==============================] - 3s 49us/step - loss: 0.0922 - val_loss: 0.0933\n",
            "Epoch 35/50\n",
            "59500/59500 [==============================] - 3s 49us/step - loss: 0.0921 - val_loss: 0.0934\n",
            "Epoch 36/50\n",
            "59500/59500 [==============================] - 3s 50us/step - loss: 0.0918 - val_loss: 0.0933\n",
            "Epoch 37/50\n",
            "59500/59500 [==============================] - 3s 49us/step - loss: 0.0917 - val_loss: 0.0929\n",
            "Epoch 38/50\n",
            "59500/59500 [==============================] - 3s 49us/step - loss: 0.0915 - val_loss: 0.0926\n",
            "Epoch 39/50\n",
            "59500/59500 [==============================] - 3s 50us/step - loss: 0.0913 - val_loss: 0.0924\n",
            "Epoch 40/50\n",
            "59500/59500 [==============================] - 3s 48us/step - loss: 0.0912 - val_loss: 0.0928\n",
            "Epoch 41/50\n",
            "59500/59500 [==============================] - 3s 49us/step - loss: 0.0910 - val_loss: 0.0919\n",
            "Epoch 42/50\n",
            "59500/59500 [==============================] - 3s 49us/step - loss: 0.0909 - val_loss: 0.0920\n",
            "Epoch 43/50\n",
            "59500/59500 [==============================] - 3s 48us/step - loss: 0.0907 - val_loss: 0.0922\n",
            "Epoch 44/50\n",
            "59500/59500 [==============================] - 3s 48us/step - loss: 0.0906 - val_loss: 0.0920\n",
            "Epoch 45/50\n",
            "59500/59500 [==============================] - 3s 48us/step - loss: 0.0904 - val_loss: 0.0917\n",
            "Epoch 46/50\n",
            "59500/59500 [==============================] - 3s 48us/step - loss: 0.0903 - val_loss: 0.0916\n",
            "Epoch 47/50\n",
            "59500/59500 [==============================] - 3s 48us/step - loss: 0.0902 - val_loss: 0.0913\n",
            "Epoch 48/50\n",
            "59500/59500 [==============================] - 3s 49us/step - loss: 0.0901 - val_loss: 0.0917\n",
            "Epoch 49/50\n",
            "59500/59500 [==============================] - 3s 46us/step - loss: 0.0899 - val_loss: 0.0912\n",
            "Epoch 50/50\n",
            "59500/59500 [==============================] - 3s 48us/step - loss: 0.0899 - val_loss: 0.0915\n"
          ],
          "name": "stdout"
        },
        {
          "output_type": "execute_result",
          "data": {
            "text/plain": [
              "<keras.callbacks.History at 0x7f862d15ae80>"
            ]
          },
          "metadata": {
            "tags": []
          },
          "execution_count": 19
        }
      ]
    },
    {
      "cell_type": "markdown",
      "metadata": {
        "id": "U_uA7iRFnmDH",
        "colab_type": "text"
      },
      "source": [
        "We just want to see the quality of compression/decompression. So, let's just feed forward test images to see how the restored digits look like."
      ]
    },
    {
      "cell_type": "code",
      "metadata": {
        "id": "6BfQiDMNnmDJ",
        "colab_type": "code",
        "colab": {
          "base_uri": "https://localhost:8080/",
          "height": 141
        },
        "outputId": "90892feb-342f-4de6-c430-174b105ce546"
      },
      "source": [
        "X_test_decoded = autoencoder.predict(X_test)\n",
        "\n",
        "show_images(X_test, X_test_decoded)"
      ],
      "execution_count": 20,
      "outputs": [
        {
          "output_type": "display_data",
          "data": {
            "image/png": "[encoded data removed]",
            "text/plain": [
              "<Figure size 720x144 with 20 Axes>"
            ]
          },
          "metadata": {
            "tags": []
          }
        }
      ]
    },
    {
      "cell_type": "markdown",
      "metadata": {
        "id": "v9PZul_lnmDO",
        "colab_type": "text"
      },
      "source": [
        "Although not perfect, the restored digits look better than the ones restored by the simple autoencoder."
      ]
    },
    {
      "cell_type": "markdown",
      "metadata": {
        "id": "9az054xPnmDP",
        "colab_type": "text"
      },
      "source": [
        "## Noise Reduction by Autoencoder\n",
        "Let's try noise reduction effect using the convolutional autoencoder. We add random noises to the MINST image data and use them as input for training."
      ]
    },
    {
      "cell_type": "code",
      "metadata": {
        "id": "L7itdNqynmDR",
        "colab_type": "code",
        "colab": {}
      },
      "source": [
        "def add_noise(x, noise_factor=0.2):\n",
        "    x = x + np.random.randn(*x.shape) * noise_factor\n",
        "    x = x.clip(0., 1.)\n",
        "    return x\n",
        "    \n",
        "X_train_noisy = add_noise(X_train)\n",
        "X_valid_noisy = add_noise(X_valid)\n",
        "X_test_noisy  = add_noise(X_test)"
      ],
      "execution_count": 0,
      "outputs": []
    },
    {
      "cell_type": "markdown",
      "metadata": {
        "id": "EwFhJpy2nmDU",
        "colab_type": "text"
      },
      "source": [
        "We train a new autoencoder with the noisy data as input and the original data as expected output."
      ]
    },
    {
      "cell_type": "code",
      "metadata": {
        "id": "mzaGFJnBnmDV",
        "colab_type": "code",
        "colab": {
          "base_uri": "https://localhost:8080/",
          "height": 1000
        },
        "outputId": "508de46e-879d-483c-e7d3-c0878eba0dc0"
      },
      "source": [
        "autoencoder = make_convolutional_autoencoder()\n",
        "autoencoder.fit(X_train_noisy, X_train, epochs=50, batch_size=128, validation_data=(X_valid_noisy, X_valid))"
      ],
      "execution_count": 22,
      "outputs": [
        {
          "output_type": "stream",
          "text": [
            "Train on 59500 samples, validate on 500 samples\n",
            "Epoch 1/50\n",
            "59500/59500 [==============================] - 4s 63us/step - loss: 0.2261 - val_loss: 0.1503\n",
            "Epoch 2/50\n",
            "59500/59500 [==============================] - 3s 53us/step - loss: 0.1375 - val_loss: 0.1328\n",
            "Epoch 3/50\n",
            "59500/59500 [==============================] - 3s 52us/step - loss: 0.1265 - val_loss: 0.1255\n",
            "Epoch 4/50\n",
            "59500/59500 [==============================] - 3s 52us/step - loss: 0.1210 - val_loss: 0.1209\n",
            "Epoch 5/50\n",
            "59500/59500 [==============================] - 3s 52us/step - loss: 0.1171 - val_loss: 0.1173\n",
            "Epoch 6/50\n",
            "59500/59500 [==============================] - 3s 50us/step - loss: 0.1139 - val_loss: 0.1143\n",
            "Epoch 7/50\n",
            "59500/59500 [==============================] - 3s 50us/step - loss: 0.1116 - val_loss: 0.1126\n",
            "Epoch 8/50\n",
            "59500/59500 [==============================] - 3s 52us/step - loss: 0.1098 - val_loss: 0.1106\n",
            "Epoch 9/50\n",
            "59500/59500 [==============================] - 3s 51us/step - loss: 0.1085 - val_loss: 0.1093\n",
            "Epoch 10/50\n",
            "59500/59500 [==============================] - 3s 51us/step - loss: 0.1074 - val_loss: 0.1082\n",
            "Epoch 11/50\n",
            "59500/59500 [==============================] - 3s 50us/step - loss: 0.1064 - val_loss: 0.1074\n",
            "Epoch 12/50\n",
            "59500/59500 [==============================] - 3s 52us/step - loss: 0.1056 - val_loss: 0.1066\n",
            "Epoch 13/50\n",
            "59500/59500 [==============================] - 3s 52us/step - loss: 0.1050 - val_loss: 0.1066\n",
            "Epoch 14/50\n",
            "59500/59500 [==============================] - 3s 52us/step - loss: 0.1044 - val_loss: 0.1057\n",
            "Epoch 15/50\n",
            "59500/59500 [==============================] - 3s 52us/step - loss: 0.1039 - val_loss: 0.1061\n",
            "Epoch 16/50\n",
            "59500/59500 [==============================] - 3s 50us/step - loss: 0.1035 - val_loss: 0.1044\n",
            "Epoch 17/50\n",
            "59500/59500 [==============================] - 3s 51us/step - loss: 0.1029 - val_loss: 0.1042\n",
            "Epoch 18/50\n",
            "59500/59500 [==============================] - 3s 51us/step - loss: 0.1027 - val_loss: 0.1043\n",
            "Epoch 19/50\n",
            "59500/59500 [==============================] - 3s 51us/step - loss: 0.1022 - val_loss: 0.1035\n",
            "Epoch 20/50\n",
            "59500/59500 [==============================] - 3s 51us/step - loss: 0.1019 - val_loss: 0.1036\n",
            "Epoch 21/50\n",
            "59500/59500 [==============================] - 3s 52us/step - loss: 0.1016 - val_loss: 0.1029\n",
            "Epoch 22/50\n",
            "59500/59500 [==============================] - 3s 51us/step - loss: 0.1013 - val_loss: 0.1025\n",
            "Epoch 23/50\n",
            "59500/59500 [==============================] - 3s 51us/step - loss: 0.1010 - val_loss: 0.1023\n",
            "Epoch 24/50\n",
            "59500/59500 [==============================] - 3s 51us/step - loss: 0.1007 - val_loss: 0.1018\n",
            "Epoch 25/50\n",
            "59500/59500 [==============================] - 3s 52us/step - loss: 0.1005 - val_loss: 0.1019\n",
            "Epoch 26/50\n",
            "59500/59500 [==============================] - 3s 51us/step - loss: 0.1003 - val_loss: 0.1013\n",
            "Epoch 27/50\n",
            "59500/59500 [==============================] - 3s 52us/step - loss: 0.1001 - val_loss: 0.1012\n",
            "Epoch 28/50\n",
            "59500/59500 [==============================] - 3s 50us/step - loss: 0.0999 - val_loss: 0.1010\n",
            "Epoch 29/50\n",
            "59500/59500 [==============================] - 3s 53us/step - loss: 0.0998 - val_loss: 0.1007\n",
            "Epoch 30/50\n",
            "59500/59500 [==============================] - 3s 51us/step - loss: 0.0995 - val_loss: 0.1006\n",
            "Epoch 31/50\n",
            "59500/59500 [==============================] - 3s 51us/step - loss: 0.0993 - val_loss: 0.1004\n",
            "Epoch 32/50\n",
            "59500/59500 [==============================] - 3s 52us/step - loss: 0.0992 - val_loss: 0.1004\n",
            "Epoch 33/50\n",
            "59500/59500 [==============================] - 3s 52us/step - loss: 0.0990 - val_loss: 0.1002\n",
            "Epoch 34/50\n",
            "59500/59500 [==============================] - 3s 50us/step - loss: 0.0989 - val_loss: 0.0998\n",
            "Epoch 35/50\n",
            "59500/59500 [==============================] - 3s 50us/step - loss: 0.0987 - val_loss: 0.0999\n",
            "Epoch 36/50\n",
            "59500/59500 [==============================] - 3s 52us/step - loss: 0.0985 - val_loss: 0.0998\n",
            "Epoch 37/50\n",
            "59500/59500 [==============================] - 3s 50us/step - loss: 0.0985 - val_loss: 0.0993\n",
            "Epoch 38/50\n",
            "59500/59500 [==============================] - 3s 50us/step - loss: 0.0983 - val_loss: 0.0993\n",
            "Epoch 39/50\n",
            "59500/59500 [==============================] - 3s 51us/step - loss: 0.0981 - val_loss: 0.0992\n",
            "Epoch 40/50\n",
            "59500/59500 [==============================] - 3s 51us/step - loss: 0.0980 - val_loss: 0.0990\n",
            "Epoch 41/50\n",
            "59500/59500 [==============================] - 3s 51us/step - loss: 0.0979 - val_loss: 0.0990\n",
            "Epoch 42/50\n",
            "59500/59500 [==============================] - 3s 51us/step - loss: 0.0978 - val_loss: 0.0991\n",
            "Epoch 43/50\n",
            "59500/59500 [==============================] - 3s 50us/step - loss: 0.0976 - val_loss: 0.0988\n",
            "Epoch 44/50\n",
            "59500/59500 [==============================] - 3s 50us/step - loss: 0.0975 - val_loss: 0.0986\n",
            "Epoch 45/50\n",
            "59500/59500 [==============================] - 3s 51us/step - loss: 0.0974 - val_loss: 0.0997\n",
            "Epoch 46/50\n",
            "59500/59500 [==============================] - 3s 50us/step - loss: 0.0973 - val_loss: 0.0988\n",
            "Epoch 47/50\n",
            "59500/59500 [==============================] - 3s 49us/step - loss: 0.0971 - val_loss: 0.0988\n",
            "Epoch 48/50\n",
            "59500/59500 [==============================] - 3s 50us/step - loss: 0.0971 - val_loss: 0.0983\n",
            "Epoch 49/50\n",
            "59500/59500 [==============================] - 3s 50us/step - loss: 0.0970 - val_loss: 0.0983\n",
            "Epoch 50/50\n",
            "59500/59500 [==============================] - 3s 50us/step - loss: 0.0969 - val_loss: 0.0980\n"
          ],
          "name": "stdout"
        },
        {
          "output_type": "execute_result",
          "data": {
            "text/plain": [
              "<keras.callbacks.History at 0x7f86840f2128>"
            ]
          },
          "metadata": {
            "tags": []
          },
          "execution_count": 22
        }
      ]
    },
    {
      "cell_type": "markdown",
      "metadata": {
        "id": "KVB1k_WunmDZ",
        "colab_type": "text"
      },
      "source": [
        "We pass the noisy images to the autoencoder to see the restored images."
      ]
    },
    {
      "cell_type": "code",
      "metadata": {
        "id": "K14egBSvnmDa",
        "colab_type": "code",
        "colab": {
          "base_uri": "https://localhost:8080/",
          "height": 141
        },
        "outputId": "940258fb-5168-4b0b-8ecf-73876454b1ba"
      },
      "source": [
        "X_test_decoded = autoencoder.predict(X_test_noisy)\n",
        "\n",
        "show_images(X_test_noisy, X_test_decoded)"
      ],
      "execution_count": 23,
      "outputs": [
        {
          "output_type": "display_data",
          "data": {
            "image/png": "[encoded data removed]",
            "text/plain": [
              "<Figure size 720x144 with 20 Axes>"
            ]
          },
          "metadata": {
            "tags": []
          }
        }
      ]
    },
    {
      "cell_type": "markdown",
      "metadata": {
        "id": "p98vleKZnmDe",
        "colab_type": "text"
      },
      "source": [
        "Not bad, right?\n",
        "\n",
        "## References\n",
        "\n",
        "[1] Building Autoencoders in Keras\n",
        "Francois Chollet\n",
        "\n",
        "https://blog.keras.io/building-autoencoders-in-keras.html"
      ]
    },
    {
      "cell_type": "code",
      "metadata": {
        "id": "3W1hjB-anmDf",
        "colab_type": "code",
        "colab": {}
      },
      "source": [
        ""
      ],
      "execution_count": 0,
      "outputs": []
    }
  ]
}